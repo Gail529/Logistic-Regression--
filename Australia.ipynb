{
  "nbformat": 4,
  "nbformat_minor": 0,
  "metadata": {
    "colab": {
      "name": "Australia.ipynb",
      "provenance": [],
      "collapsed_sections": [],
      "authorship_tag": "ABX9TyMAmF9fzCxU+xkXcZK6+xNl",
      "include_colab_link": true
    },
    "kernelspec": {
      "name": "python3",
      "display_name": "Python 3"
    }
  },
  "cells": [
    {
      "cell_type": "markdown",
      "metadata": {
        "id": "view-in-github",
        "colab_type": "text"
      },
      "source": [
        "<a href=\"https://colab.research.google.com/github/Gail529/Visualizations/blob/master/Australia.ipynb\" target=\"_parent\"><img src=\"https://colab.research.google.com/assets/colab-badge.svg\" alt=\"Open In Colab\"/></a>"
      ]
    },
    {
      "cell_type": "code",
      "metadata": {
        "id": "BbmypouoLO9i",
        "colab_type": "code",
        "colab": {
          "base_uri": "https://localhost:8080/",
          "height": 75
        },
        "outputId": "bdb1b069-85c0-4051-bc76-d6ad11951620"
      },
      "source": [
        "import numpy as np\n",
        "import pandas as pd\n",
        "import matplotlib.pyplot as plt\n",
        "import seaborn  as sns"
      ],
      "execution_count": null,
      "outputs": [
        {
          "output_type": "stream",
          "text": [
            "/usr/local/lib/python3.6/dist-packages/statsmodels/tools/_testing.py:19: FutureWarning: pandas.util.testing is deprecated. Use the functions in the public API at pandas.testing instead.\n",
            "  import pandas.util.testing as tm\n"
          ],
          "name": "stderr"
        }
      ]
    },
    {
      "cell_type": "code",
      "metadata": {
        "id": "OikDqBg0RfE9",
        "colab_type": "code",
        "colab": {}
      },
      "source": [
        "data=pd.read_excel('/content/Australia2.xlsx',sheet_name='Sheet2')"
      ],
      "execution_count": null,
      "outputs": []
    },
    {
      "cell_type": "code",
      "metadata": {
        "id": "nkxxoR7SUUA1",
        "colab_type": "code",
        "colab": {}
      },
      "source": [
        "data=data.iloc[9:15,:]\n",
        "data\n"
      ],
      "execution_count": null,
      "outputs": []
    },
    {
      "cell_type": "code",
      "metadata": {
        "id": "aAHfSHZC_AAL",
        "colab_type": "code",
        "colab": {}
      },
      "source": [
        "cols=data.columns\n",
        "cols"
      ],
      "execution_count": null,
      "outputs": []
    },
    {
      "cell_type": "code",
      "metadata": {
        "id": "H7kpMvlJ_duA",
        "colab_type": "code",
        "colab": {}
      },
      "source": [
        "date=data['time']\n",
        "t15_24=data['Total 15-24']\n",
        "m15_24=data['Male 15-24']\n",
        "f15_24=data['Female 15-24']\n",
        "t55_64=data['Total 55-64']\n",
        "m55_64=data['Male 55-64']\n",
        "f55_64=data['Female 55-64']\n",
        "t15=data['Total 15+']\n",
        "m15=data['Male 15+']\n",
        "f15=data['Female 15+']\n",
        "t15_64=data['Total 15-64']\n",
        "m15_64=data['Male 15-64']\n",
        "f15_64=data['Female 15-64']\n",
        "bar_width=0.15"
      ],
      "execution_count": null,
      "outputs": []
    },
    {
      "cell_type": "code",
      "metadata": {
        "id": "joni6Cl7lOUw",
        "colab_type": "code",
        "colab": {
          "base_uri": "https://localhost:8080/",
          "height": 36
        },
        "outputId": "2d68bc79-765b-42c8-cb8d-33e9d2889f1c"
      },
      "source": [
        "labels=['2019-07-01','2019-08-01','2019-09-01','2019-10-01','2019-11-01','2019-12-01','2020-01-01','2020-02-01','2020-03-01']\n",
        "x=np.arange(len(labels))\n",
        "width = 0.35\n",
        "x"
      ],
      "execution_count": null,
      "outputs": [
        {
          "output_type": "execute_result",
          "data": {
            "text/plain": [
              "array([0, 1, 2, 3, 4, 5, 6, 7, 8])"
            ]
          },
          "metadata": {
            "tags": []
          },
          "execution_count": 4
        }
      ]
    },
    {
      "cell_type": "code",
      "metadata": {
        "id": "jdkpkHsme85W",
        "colab_type": "code",
        "colab": {}
      },
      "source": [
        "labels=['2019-10','2019-11','2019-12','2020-01','2020-02','2020-03']\n",
        "x=np.arange(len(labels))\n",
        "width = 0.35\n",
        "fig,   ax=plt.subplots()\n",
        "plt.style.use('seaborn')\n",
        "ax.bar(x-width/2,   t55_64,width,label='Total 55-64' ,color='blue')\n",
        "ax.bar(x+width/2,  m55_64,width,label='Women 55-64' ,color='grey')\n",
        "ax.bar(x+width/3,  f55_64,width,label='Men 55-64' ,color='black')\n",
        "ax.set_ylabel('Unemployment rate')\n",
        "ax.set_title('Australia Unemployment rate by age and gender')\n",
        "ax.set_xticks(x)\n",
        "ax.set_xticklabels(labels)\n",
        "ax.legend()\n",
        "fig.tight_layout()\n",
        "plt.show()"
      ],
      "execution_count": null,
      "outputs": []
    },
    {
      "cell_type": "code",
      "metadata": {
        "id": "U2n5ubOGgDlT",
        "colab_type": "code",
        "colab": {}
      },
      "source": [
        "labels=['2019-10','2019-11','2019-12','2020-01','2020-02','2020-03']\n",
        "x=np.arange(len(labels))\n",
        "width = 0.35\n",
        "fig,   ax=plt.subplots()\n",
        "plt.style.use('seaborn')\n",
        "ax.bar(x-width/2,   t15_24,width,label='Total 15-24' ,color='blue')\n",
        "ax.bar(x+width/2,  m15_24,width,label='Women 15-24' ,color='grey')\n",
        "ax.bar(x+width/3,  f15_24,width,label='Men 15-24' ,color='black')\n",
        "ax.set_ylabel('Unemployment rate')\n",
        "ax.set_title('Australia Unemployment rate by age and gender')\n",
        "ax.set_xticks(x)\n",
        "ax.set_xticklabels(labels)\n",
        "ax.legend()\n",
        "fig.tight_layout()\n",
        "plt.show()"
      ],
      "execution_count": null,
      "outputs": []
    },
    {
      "cell_type": "code",
      "metadata": {
        "id": "gxl0bQQ-HFYI",
        "colab_type": "code",
        "colab": {}
      },
      "source": [
        "labels=['2019-10','2019-11','2019-12','2020-01','2020-02','2020-03']\n",
        "x=np.arange(len(labels))\n",
        "width = 0.35\n",
        "fig,   ax=plt.subplots()\n",
        "plt.style.use('seaborn')\n",
        "ax.bar(x-width/2,   t15_64,width,label='Total' ,color='blue')\n",
        "ax.bar(x+width/2,  m15_64,width,label='Men ' ,color='grey')\n",
        "ax.bar(x+width/3,  f15_64,width,label='Women ' ,color='black')\n",
        "ax.set_ylabel('Unemployment rate')\n",
        "ax.set_title('Australia Unemployment rate by age(15-64)')\n",
        "ax.set_xticks(x)\n",
        "ax.set_xticklabels(labels)\n",
        "ax.legend()\n",
        "fig.tight_layout()\n",
        "\n",
        "plt.show()"
      ],
      "execution_count": null,
      "outputs": []
    },
    {
      "cell_type": "code",
      "metadata": {
        "id": "U8HFCvt2Gghh",
        "colab_type": "code",
        "colab": {}
      },
      "source": [
        "plt.style.use('seaborn')\n",
        "date=data['time']\n",
        "plt.plot_date(date,m15_24 ,  linestyle='solid' ,color='blue', label='Male 15-24')  \n",
        "plt.plot_date(date,m55_64  ,linestyle='solid', color='grey' , label='Male  55_64')  \n",
        "plt.plot_date(date,m15,linestyle='solid' ,color='pink', label='Male  15+')  \n",
        "plt.plot_date(date,m15_64,linestyle='solid' ,color='black', label='Male 15_64')  \n",
        "plt.legend()\n",
        "plt.tight_layout()\n",
        "plt.show()"
      ],
      "execution_count": null,
      "outputs": []
    },
    {
      "cell_type": "code",
      "metadata": {
        "id": "_QQ_6laJUU_M",
        "colab_type": "code",
        "colab": {}
      },
      "source": [
        "plt.style.use('seaborn')\n",
        "date=data['time']\n",
        "plt.plot_date(date,f15_24 ,  linestyle='solid' ,color='blue', label='Female 15-24')  \n",
        "plt.plot_date(date,f55_64  ,linestyle='solid', color='grey' , label='Female  55_64')  \n",
        "plt.plot_date(date,f15,linestyle='solid' ,color='pink', label='Female  15+')  \n",
        "plt.plot_date(date,f15_64,linestyle='solid' ,color='black', label='Female 15_64')    \n",
        "plt.legend()\n",
        "plt.tight_layout()\n",
        "plt.show()"
      ],
      "execution_count": null,
      "outputs": []
    }
  ]
}